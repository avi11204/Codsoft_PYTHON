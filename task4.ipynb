{
 "cells": [
  {
   "cell_type": "code",
   "execution_count": null,
   "id": "b9e14418",
   "metadata": {},
   "outputs": [
    {
     "name": "stdout",
     "output_type": "stream",
     "text": [
      "\n",
      "Rock-Paper-Scissors Game\n",
      "Enter your choice (rock, paper, or scissors): rock\n",
      "Computer's choice: rock\n",
      "It's a tie!\n",
      "Scores -> You: 0 Computer: 0\n",
      "Do you want to play another round? (yes/no): yes\n",
      "\n",
      "Rock-Paper-Scissors Game\n",
      "Enter your choice (rock, paper, or scissors): paper\n",
      "Computer's choice: scissors\n",
      "You lose!\n",
      "Scores -> You: 0 Computer: 1\n",
      "Do you want to play another round? (yes/no): yes\n",
      "\n",
      "Rock-Paper-Scissors Game\n"
     ]
    }
   ],
   "source": [
    "import random\n",
    "\n",
    "def play_game():\n",
    "    choices = [\"rock\", \"paper\", \"scissors\"]\n",
    "    user_score = 0\n",
    "    computer_score = 0\n",
    "\n",
    "    while True:\n",
    "        print(\"\\nRock-Paper-Scissors Game\")\n",
    "        user_choice = input(\"Enter your choice (rock, paper, or scissors): \").lower()\n",
    "        if user_choice not in choices:\n",
    "            print(\"Invalid choice. Please try again.\")\n",
    "            continue\n",
    "\n",
    "        computer_choice = random.choice(choices)\n",
    "        print(f\"Computer's choice: {computer_choice}\")\n",
    "\n",
    "        if user_choice == computer_choice:\n",
    "            result = \"It's a tie!\"\n",
    "        elif (user_choice == \"rock\" and computer_choice == \"scissors\") or \\\n",
    "             (user_choice == \"scissors\" and computer_choice == \"paper\") or \\\n",
    "             (user_choice == \"paper\" and computer_choice == \"rock\"):\n",
    "            result = \"You win!\"\n",
    "            user_score += 1\n",
    "        else:\n",
    "            result = \"You lose!\"\n",
    "            computer_score += 1\n",
    "\n",
    "        print(result)\n",
    "        print(f\"Scores -> You: {user_score} Computer: {computer_score}\")\n",
    "\n",
    "        play_again = input(\"Do you want to play another round? (yes/no): \").lower()\n",
    "        if play_again != \"yes\":\n",
    "            break\n",
    "\n",
    "if __name__ == \"__main__\":\n",
    "    play_game()\n"
   ]
  },
  {
   "cell_type": "code",
   "execution_count": null,
   "id": "fed77f05",
   "metadata": {},
   "outputs": [],
   "source": []
  },
  {
   "cell_type": "code",
   "execution_count": null,
   "id": "a1a584c3",
   "metadata": {},
   "outputs": [],
   "source": []
  }
 ],
 "metadata": {
  "kernelspec": {
   "display_name": "Python 3 (ipykernel)",
   "language": "python",
   "name": "python3"
  },
  "language_info": {
   "codemirror_mode": {
    "name": "ipython",
    "version": 3
   },
   "file_extension": ".py",
   "mimetype": "text/x-python",
   "name": "python",
   "nbconvert_exporter": "python",
   "pygments_lexer": "ipython3",
   "version": "3.11.5"
  }
 },
 "nbformat": 4,
 "nbformat_minor": 5
}
